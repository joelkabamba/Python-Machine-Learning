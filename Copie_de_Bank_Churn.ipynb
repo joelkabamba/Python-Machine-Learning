{
  "nbformat": 4,
  "nbformat_minor": 0,
  "metadata": {
    "colab": {
      "name": "Copie de Bank Churn.ipynb",
      "provenance": [],
      "collapsed_sections": [],
      "include_colab_link": true
    },
    "kernelspec": {
      "name": "python3",
      "display_name": "Python 3"
    }
  },
  "cells": [
    {
      "cell_type": "markdown",
      "metadata": {
        "id": "view-in-github",
        "colab_type": "text"
      },
      "source": [
        "<a href=\"https://colab.research.google.com/github/joelkabamba/Python-Machine-Learning/blob/master/Copie_de_Bank_Churn.ipynb\" target=\"_parent\"><img src=\"https://colab.research.google.com/assets/colab-badge.svg\" alt=\"Open In Colab\"/></a>"
      ]
    },
    {
      "cell_type": "code",
      "metadata": {
        "id": "r6OeSdNcZZP7"
      },
      "source": [
        "!pip install shap\n",
        "!wget \"https://drive.google.com/uc?export=download&id=1OMjEx6D_mDSJSb9-fgOfwD19rz0sZ4ra\" -O dataset.csv"
      ],
      "execution_count": null,
      "outputs": []
    },
    {
      "cell_type": "code",
      "metadata": {
        "id": "t6ji7hySgBTg"
      },
      "source": [
        "def configure_plotly_browser_state():\n",
        "  import IPython\n",
        "  display(IPython.core.display.HTML('''\n",
        "        <script src=\"/static/components/requirejs/require.js\"></script>\n",
        "        <script>\n",
        "          requirejs.config({\n",
        "            paths: {\n",
        "              base: '/static/base',\n",
        "              plotly: 'https://cdn.plot.ly/plotly-latest.min.js?noext',\n",
        "            },\n",
        "          });\n",
        "        </script>\n",
        "        '''))\n",
        "\n",
        "import IPython\n",
        "\n",
        "IPython.get_ipython().events.register('pre_run_cell', configure_plotly_browser_state)"
      ],
      "execution_count": null,
      "outputs": []
    },
    {
      "cell_type": "code",
      "metadata": {
        "id": "ky9pGuZweLiw"
      },
      "source": [
        "import numpy as np\n",
        "import pandas as pds\n",
        "import seaborn as sns\n",
        "import shap\n",
        "import matplotlib\n",
        "import matplotlib.pyplot as plt #visualization\n",
        "%matplotlib inline\n",
        "\n",
        "plt.rcParams[\"figure.figsize\"] = (16,11)\n",
        "font = {'weight' : 'normal',\n",
        "        'size'   : 16}\n",
        "matplotlib.rc('font', **font)\n",
        "\n",
        "import itertools\n",
        "import warnings\n",
        "warnings.filterwarnings(\"ignore\")\n",
        "import os\n",
        "import io\n",
        "import plotly.offline as py #visualization\n",
        "py.init_notebook_mode(connected=True) #visualization\n",
        "import plotly.graph_objs as go #visualization\n",
        "import plotly.tools as tls #visualization\n",
        "import plotly.figure_factory as ff #visualization"
      ],
      "execution_count": null,
      "outputs": []
    },
    {
      "cell_type": "code",
      "metadata": {
        "id": "e2zKYZT9eSwL"
      },
      "source": [
        "data = pd.read_csv('dataset.csv')\n",
        "data.head()"
      ],
      "execution_count": null,
      "outputs": []
    },
    {
      "cell_type": "code",
      "metadata": {
        "id": "B1tTAuUPeYDK"
      },
      "source": [
        "clean_column_name = []\n",
        "columns = data.columns\n",
        "for i in range(len(columns)):\n",
        "    clean_column_name.append(columns[i].lower())\n",
        "data.columns = clean_column_name"
      ],
      "execution_count": null,
      "outputs": []
    },
    {
      "cell_type": "code",
      "metadata": {
        "id": "WoLKlcWLeiyL"
      },
      "source": [
        "data = data.drop([\"rownumber\", \"customerid\", \"surname\"], axis=1)"
      ],
      "execution_count": null,
      "outputs": []
    },
    {
      "cell_type": "code",
      "metadata": {
        "id": "oGzE9HjcemlT"
      },
      "source": [
        "print(data.shape)\n",
        "data.head()"
      ],
      "execution_count": null,
      "outputs": []
    },
    {
      "cell_type": "code",
      "metadata": {
        "id": "WgFC4jxMo3wP"
      },
      "source": [
        "np.sum(data.isna())"
      ],
      "execution_count": null,
      "outputs": []
    },
    {
      "cell_type": "markdown",
      "metadata": {
        "id": "P7oH0A2-epGg"
      },
      "source": [
        "# Analyse exploratoire et Data Visualization\n",
        "\n",
        "L'objectif de cette partie est de répondre à des questions que l'on se pose dans le but d'acquérir de la connaissance sur les données. Pour mener à bien cette partie, il faut se mettre dans la tête d'une personne qui ne connaît ni la situation, ni les données et qui poserait des questions essentielles.\n",
        "\n",
        "## Analyse univariée\n",
        "\n",
        "Effectuons une première visualisation de l'état du compte bancaire au moment de la récupération du jeu de données."
      ]
    },
    {
      "cell_type": "code",
      "metadata": {
        "id": "wmk3DS19pUml"
      },
      "source": [
        "sns.distplot(data['balance'])"
      ],
      "execution_count": null,
      "outputs": []
    },
    {
      "cell_type": "markdown",
      "metadata": {
        "id": "TlTj9XkTqAE2"
      },
      "source": [
        "Nous observons une forte proportion d'individus ayant un compte bancaire à 0€ le jour de la récupération des informations. Pour autant, cela signifie-t-il qu'il y a eu autant d'individus ayant exactement 0€ sur leur compte bancaire ce jour-là ?"
      ]
    },
    {
      "cell_type": "code",
      "metadata": {
        "id": "zJhmMIlQqAM4"
      },
      "source": [
        "sns.distplot(data['balance'][data['balance'] > 0])"
      ],
      "execution_count": null,
      "outputs": []
    },
    {
      "cell_type": "markdown",
      "metadata": {
        "id": "LBLV9MD_ueGz"
      },
      "source": [
        "## Analyse multivariée"
      ]
    },
    {
      "cell_type": "code",
      "metadata": {
        "id": "CQzcSci8rPsI"
      },
      "source": [
        "sns.distplot(data.loc[data['exited'] == 1, 'age'], label=\"Churn\")\n",
        "sns.distplot(data.loc[data['exited'] == 0, 'age'], label=\"Non churn\")\n",
        "plt.legend()"
      ],
      "execution_count": null,
      "outputs": []
    },
    {
      "cell_type": "code",
      "metadata": {
        "id": "jvQxDIaEuymK"
      },
      "source": [
        "sns.boxplot(x='numofproducts', y='age', data=data)"
      ],
      "execution_count": null,
      "outputs": []
    },
    {
      "cell_type": "code",
      "metadata": {
        "id": "H5FN9WQSuf3k"
      },
      "source": [
        "sns.violinplot(x='numofproducts', y='age', data=data)"
      ],
      "execution_count": null,
      "outputs": []
    },
    {
      "cell_type": "markdown",
      "metadata": {
        "id": "MtGCCLqztQs7"
      },
      "source": [
        "### Analyse de la variable réponse"
      ]
    },
    {
      "cell_type": "code",
      "metadata": {
        "id": "jtMRvIAbtVE8"
      },
      "source": [
        "data['exited'].value_counts().plot.pie(autopct=lambda x: '{:2.1f}%'.format(x), explode=[0, 0.1])"
      ],
      "execution_count": null,
      "outputs": []
    },
    {
      "cell_type": "code",
      "metadata": {
        "id": "XvDx_owHvt9A"
      },
      "source": [
        "sns.boxplot(x='numofproducts', y='age', data=data, hue=\"exited\")"
      ],
      "execution_count": null,
      "outputs": []
    },
    {
      "cell_type": "code",
      "metadata": {
        "id": "iqUuV3bnwOx-"
      },
      "source": [
        "data[(data['exited'] == 1) & (data['numofproducts'] == 4)].shape"
      ],
      "execution_count": null,
      "outputs": []
    },
    {
      "cell_type": "markdown",
      "metadata": {
        "id": "edeCfrtGxB9q"
      },
      "source": [
        "# Nettoyage"
      ]
    },
    {
      "cell_type": "code",
      "metadata": {
        "id": "mczMout6xCFP"
      },
      "source": [
        "cleaned_data = data.copy()\n",
        "cleaned_data = cleaned_data[~((cleaned_data['exited'] == 1) & (cleaned_data['numofproducts'] == 4))]\n",
        "cleaned_data.shape"
      ],
      "execution_count": null,
      "outputs": []
    },
    {
      "cell_type": "markdown",
      "metadata": {
        "id": "HPTDL-DsggUe"
      },
      "source": [
        "# Encodage"
      ]
    },
    {
      "cell_type": "code",
      "metadata": {
        "id": "IBuWX22Ugxww"
      },
      "source": [
        "X = cleaned_data.iloc[:, :-1].copy()\n",
        "y = cleaned_data['exited']\n",
        "X.head()"
      ],
      "execution_count": null,
      "outputs": []
    },
    {
      "cell_type": "markdown",
      "metadata": {
        "id": "8iK4k6hwgmJw"
      },
      "source": [
        "## Encodage binaire"
      ]
    },
    {
      "cell_type": "code",
      "metadata": {
        "id": "1aw_5_3jghC1"
      },
      "source": [
        "X['gender'] = data['gender'].apply(lambda x: 1 if x == \"Female\" else 0)\n",
        "X.head()"
      ],
      "execution_count": null,
      "outputs": []
    },
    {
      "cell_type": "code",
      "metadata": {
        "id": "3FUuTRwPgopX"
      },
      "source": [
        "X = X.join(pd.get_dummies(data['geography']))\n",
        "X.head()"
      ],
      "execution_count": null,
      "outputs": []
    },
    {
      "cell_type": "code",
      "metadata": {
        "id": "3Hd38DckhWKZ"
      },
      "source": [
        "del X['geography']\n",
        "X.head()"
      ],
      "execution_count": null,
      "outputs": []
    },
    {
      "cell_type": "code",
      "metadata": {
        "id": "cdmrIP4whAVu"
      },
      "source": [
        "clean_column_name = []\n",
        "columns = X.columns\n",
        "for i in range(len(columns)):\n",
        "    clean_column_name.append(columns[i].lower())\n",
        "X.columns = clean_column_name\n",
        "X.head()"
      ],
      "execution_count": null,
      "outputs": []
    },
    {
      "cell_type": "markdown",
      "metadata": {
        "id": "42sT_2iNhslN"
      },
      "source": [
        "Avant d'entraîner un modèle, il faut s'assurer que l'on sépare bien le jeu de données en deux ensembles :\n",
        "\n",
        "- Un ensemble de train\n",
        "- Un ensemble de test"
      ]
    },
    {
      "cell_type": "markdown",
      "metadata": {
        "id": "uVnlZTxLuvQk"
      },
      "source": [
        "Il est essentiel de séparer le jeu de données en deux : on veut se rapprocher au maximum du séparateur en noir, pas en vert.\n",
        "\n",
        "<center>\n",
        "  <img width=\"400\" src=\"https://upload.wikimedia.org/wikipedia/commons/thumb/1/19/Overfitting.svg/1200px-Overfitting.svg.png\" />\n",
        "</center>"
      ]
    },
    {
      "cell_type": "code",
      "metadata": {
        "id": "GsEQtqZvjZyD"
      },
      "source": [
        "from sklearn.model_selection import train_test_split\n",
        "from sklearn.tree import DecisionTreeClassifier\n",
        "\n",
        "X_train, X_test, y_train, y_test = train_test_split(X, y, test_size=0.3)"
      ],
      "execution_count": null,
      "outputs": []
    },
    {
      "cell_type": "markdown",
      "metadata": {
        "id": "ojj7m1n_h1Ob"
      },
      "source": [
        "# Modélisation"
      ]
    },
    {
      "cell_type": "code",
      "metadata": {
        "id": "y1mJQwnLjYuv"
      },
      "source": [
        "tree = DecisionTreeClassifier(max_depth=6)\n",
        "tree.fit(X_train, y_train)"
      ],
      "execution_count": null,
      "outputs": []
    },
    {
      "cell_type": "code",
      "metadata": {
        "id": "qLo9TAI7iAtY"
      },
      "source": [
        "from sklearn.metrics import accuracy_score\n",
        "\n",
        "print(\"Train :\", accuracy_score(y_train, tree.predict(X_train)))\n",
        "print(\"Test :\", accuracy_score(y_test, tree.predict(X_test)))"
      ],
      "execution_count": null,
      "outputs": []
    },
    {
      "cell_type": "code",
      "metadata": {
        "id": "NZc9BHwpkyox"
      },
      "source": [
        "features_imp = pd.DataFrame(\n",
        "    data=np.asarray([X.columns, tree.feature_importances_]).transpose(),\n",
        "    columns=['Variable', 'Importance'])\n",
        "features_imp"
      ],
      "execution_count": null,
      "outputs": []
    },
    {
      "cell_type": "code",
      "metadata": {
        "id": "GMGQHokzlB8d"
      },
      "source": [
        "features_imp.set_index(\"Variable\").sort_values(by=\"Importance\").plot.barh(figsize=(14, 9))\n",
        "for item in ([plt.gca().title, plt.gca().xaxis.label, plt.gca().yaxis.label] +\n",
        "             plt.gca().get_xticklabels() + plt.gca().get_yticklabels()):\n",
        "    item.set_fontsize(13)"
      ],
      "execution_count": null,
      "outputs": []
    },
    {
      "cell_type": "code",
      "metadata": {
        "id": "on3DiQ-rlFlw"
      },
      "source": [
        "import graphviz \n",
        "import sklearn.tree\n",
        "\n",
        "dot_data = sklearn.tree.export_graphviz(tree, out_file=None) \n",
        "graph = graphviz.Source(dot_data)\n",
        "graph"
      ],
      "execution_count": null,
      "outputs": []
    }
  ]
}